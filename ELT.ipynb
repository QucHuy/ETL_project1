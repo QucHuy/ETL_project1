{
 "cells": [
  {
   "cell_type": "code",
   "execution_count": 1,
   "metadata": {},
   "outputs": [],
   "source": [
    "import findspark\n",
    "findspark.init()\n",
    "import pyspark.sql.functions as sf\n",
    "from pyspark.sql import SparkSession\n",
    "from pyspark.sql import SQLContext\n",
    "from pyspark.sql.types import *\n",
    "from pyspark import SparkConf, SparkContext\n",
    "from uuid import * \n",
    "from uuid import UUID\n",
    "import time_uuid \n",
    "from pyspark.sql import Row\n",
    "from pyspark.sql.functions import udf\n",
    "from pyspark.sql.functions import monotonically_increasing_id\n",
    "from pyspark.sql.window import Window as W\n",
    "import datetime\n",
    "import time"
   ]
  },
  {
   "cell_type": "code",
   "execution_count": 2,
   "metadata": {},
   "outputs": [],
   "source": [
    "spark = SparkSession.builder.config(\"spark.jars.packages\", \"com.datastax.spark:spark-cassandra-connector_2.12:3.1.0\").getOrCreate()"
   ]
  },
  {
   "cell_type": "code",
   "execution_count": 3,
   "metadata": {},
   "outputs": [],
   "source": [
    "def time_process(df):\n",
    "    spark_time = df.select('create_time').collect()\n",
    "    normal_time = []\n",
    "    for i in range(len(spark_time)):\n",
    "        a = time_uuid.TimeUUID(bytes=UUID(spark_time[i][0]).bytes).get_datetime().strftime(('%Y-%m-%d %H:%M:%S'))\n",
    "        normal_time.append(a)\n",
    "    spark_timeuuid = []\n",
    "    for i in range(len(spark_time)):\n",
    "        spark_timeuuid.append(spark_time[i][0])\n",
    "    time_data = spark.createDataFrame(zip(spark_timeuuid,normal_time),['create_time','ts'])\n",
    "    result = df.join(time_data,['create_time'],'inner').drop(df.ts)\n",
    "    result = result.select('create_time','ts','job_id','custom_track','bid','campaign_id','group_id','publisher_id')\n",
    "    return result"
   ]
  },
  {
   "cell_type": "code",
   "execution_count": 4,
   "metadata": {},
   "outputs": [],
   "source": [
    "def calculating_clicks(df):\n",
    "    click_df = df.filter(df.custom_track == 'click')\n",
    "    click_df = click_df.na.fill({'bid': 0})\n",
    "    click_df = click_df.na.fill({'job_id': 0})\n",
    "    click_df = click_df.na.fill({'publisher_id': 0})\n",
    "    click_df = click_df.na.fill({'group_id': 0})\n",
    "    click_df = click_df.na.fill({'campaign_id': 0})\n",
    "    click_df.registerTempTable('clicks')\n",
    "    click_output = spark.sql(\"\"\" select job_id, date(ts) as date, hour(ts) as hour, publisher_id, campaign_id, group_id, avg(bid) as bid_set, count(*) as clicks, sum(bid) as spend_hour \n",
    "    from clicks\n",
    "    group by job_id , date(ts) , hour(ts) , publisher_id , campaign_id , group_id\"\"\")\n",
    "    return click_output"
   ]
  },
  {
   "cell_type": "code",
   "execution_count": 5,
   "metadata": {},
   "outputs": [],
   "source": [
    "def calculating_conversion(df):\n",
    "    conversion_data = df.filter(df.custom_track == 'conversion')\n",
    "    conversion_data = conversion_data.na.fill({'job_id':0})\n",
    "    conversion_data = conversion_data.na.fill({'publisher_id':0})\n",
    "    conversion_data = conversion_data.na.fill({'group_id':0})\n",
    "    conversion_data = conversion_data.na.fill({'campaign_id':0})\n",
    "    conversion_data.registerTempTable('conversion')\n",
    "    conversion_output = spark.sql(\"\"\"select job_id , date(ts) as date , hour(ts) as hour , publisher_id , campaign_id , group_id , count(*) as conversion  from conversion\n",
    "    group by job_id , date(ts) , hour(ts) , publisher_id , campaign_id , group_id \"\"\")\n",
    "    return conversion_output "
   ]
  },
  {
   "cell_type": "code",
   "execution_count": 6,
   "metadata": {},
   "outputs": [],
   "source": [
    "def calculating_qualified(df):    \n",
    "    qualified_data = df.filter(df.custom_track == 'qualified')\n",
    "    qualified_data = qualified_data.na.fill({'job_id':0})\n",
    "    qualified_data = qualified_data.na.fill({'publisher_id':0})\n",
    "    qualified_data = qualified_data.na.fill({'group_id':0})\n",
    "    qualified_data = qualified_data.na.fill({'campaign_id':0})\n",
    "    qualified_data.registerTempTable('qualified')\n",
    "    qualified_output = spark.sql(\"\"\"select job_id , date(ts) as date , hour(ts) as hour , publisher_id , campaign_id , group_id , count(*) as qualified  from qualified\n",
    "    group by job_id , date(ts) , hour(ts) , publisher_id , campaign_id , group_id \"\"\")\n",
    "    return qualified_output"
   ]
  },
  {
   "cell_type": "code",
   "execution_count": 7,
   "metadata": {},
   "outputs": [],
   "source": [
    "def calculating_unqualified(df):\n",
    "    unqualified_data = df.filter(df.custom_track == 'unqualified')\n",
    "    unqualified_data = unqualified_data.na.fill({'job_id':0})\n",
    "    unqualified_data = unqualified_data.na.fill({'publisher_id':0})\n",
    "    unqualified_data = unqualified_data.na.fill({'group_id':0})\n",
    "    unqualified_data = unqualified_data.na.fill({'campaign_id':0})\n",
    "    unqualified_data.registerTempTable('unqualified')\n",
    "    unqualified_output = spark.sql(\"\"\"select job_id , date(ts) as date , hour(ts) as hour , publisher_id , campaign_id , group_id , count(*) as unqualified  from unqualified\n",
    "    group by job_id , date(ts) , hour(ts) , publisher_id , campaign_id , group_id \"\"\")\n",
    "    return unqualified_output"
   ]
  },
  {
   "cell_type": "code",
   "execution_count": 8,
   "metadata": {},
   "outputs": [],
   "source": [
    "def process_final_data(clicks_output, conversion_output, qualified_output, unqualified_output):\n",
    "    final_data = clicks_output.join(conversion_output, ['job_id', 'date', 'hour', 'publisher_id', 'campaign_id', 'group_id'], 'full')\\\n",
    "    .join(qualified_output, ['job_id', 'date', 'hour', 'publisher_id', 'campaign_id', 'group_id'], 'full')\\\n",
    "    .join(unqualified_output, ['job_id', 'date', 'hour', 'publisher_id', 'campaign_id', 'group_id'], 'full')\n",
    "    return final_data"
   ]
  },
  {
   "cell_type": "code",
   "execution_count": 9,
   "metadata": {},
   "outputs": [],
   "source": [
    "def process_cassandra_data(df):\n",
    "    clicks = calculating_clicks(df)\n",
    "    conversion = calculating_conversion(df)\n",
    "    qualified = calculating_qualified(df)\n",
    "    unqualified = calculating_unqualified(df)\n",
    "    return process_final_data(clicks, conversion, qualified, unqualified)"
   ]
  },
  {
   "cell_type": "code",
   "execution_count": 10,
   "metadata": {},
   "outputs": [],
   "source": [
    "def get_data_sql(url,driver,user,password):\n",
    "    sql = \"\"\"(select id as job_id, company_id, group_id, campaign_id FROM job) test\"\"\"\n",
    "    company = spark.read.format('jdbc').options(url= url, driver = driver, user = user, password= password, dbtable = sql).load()\n",
    "    return company"
   ]
  },
  {
   "cell_type": "code",
   "execution_count": 11,
   "metadata": {},
   "outputs": [],
   "source": [
    "def import_to_mysql(output):\n",
    "    final = output.select('job_id','date','hour','publisher_id','company_id','campaign_id','group_id','unqualified','qualified','conversion','clicks','bid_set','spend_hour', 'last_updated_time')\n",
    "    final = final.withColumnRenamed('date', 'dates').withColumnRenamed('hour','hours').withColumnRenamed('qualified','qualified_application').\\\n",
    "    withColumnRenamed('unqualified','disqualified_application').withColumnRenamed('conversions','conversion')\n",
    "    final = final.withColumn('sources', sf.lit('Cassandra'))\n",
    "    \n",
    "    final.show()\n",
    "    final.write.format(\"jdbc\") \\\n",
    "    .option(\"driver\",\"com.mysql.cj.jdbc.Driver\") \\\n",
    "    .option(\"url\", \"jdbc:mysql://localhost:3306/Data_Warehouse\") \\\n",
    "    .option(\"dbtable\", \"events\") \\\n",
    "    .mode(\"append\") \\\n",
    "    .option(\"user\", \"root\") \\\n",
    "    .option(\"password\", \"mysql\") \\\n",
    "    .save()\n",
    "    return print('Data imported successfully')\n",
    "    "
   ]
  },
  {
   "cell_type": "code",
   "execution_count": 12,
   "metadata": {},
   "outputs": [],
   "source": [
    "def main_task(user, password, url, driver, mysql_time):\n",
    "    print(\"-----------------------------\")\n",
    "    print(\"Retrieve data from Cassandra\")\n",
    "    print(\"-----------------------------\")\n",
    "\n",
    "    df = spark.read.format('org.apache.spark.sql.cassandra').options(table ='tracking', keyspace = 'data_engineering').load().where(sf.col('ts') >= mysql_time)\n",
    "    df.show()\n",
    "\n",
    "    df = time_process(df)\n",
    "    print(\"-----------------------------\")\n",
    "    print(\"Process Cassandra statistics\")\n",
    "    print(\"-----------------------------\")\n",
    "    data_lake = process_cassandra_data(df)\n",
    "    \n",
    "    print(\"-----------------------------\")\n",
    "    print(\"Process MYSQL statistics\")\n",
    "    print(\"-----------------------------\")\n",
    "    data_wh = get_data_sql(url= url, driver = driver, user = user, password=password)\n",
    "    \n",
    "    print(\"-----------------------------\")\n",
    "    print(\"Finalizing Output\")\n",
    "    print(\"-----------------------------\")\n",
    "    etl_data = data_lake.join(data_wh, 'job_id', 'left').drop(data_wh.campaign_id).drop(data_wh.group_id)\n",
    "    etl_data = etl_data.withColumn('last_updated_time', sf.lit(datetime.datetime.now()))\n",
    "    import_to_mysql(etl_data)\n",
    "    print('Task finished') "
   ]
  },
  {
   "cell_type": "code",
   "execution_count": 13,
   "metadata": {},
   "outputs": [],
   "source": [
    "def get_latest_cassandra_time():\n",
    "    df = spark.read.format(\"org.apache.spark.sql.cassandra\").options(table=\"tracking\",keyspace=\"data_engineering\").load()\n",
    "    cassandra_time = df.agg({'ts':'max'}).take(1)[0][0]\n",
    "    # sql = \"(select max(ts) from events limit 1) test \"\n",
    "    # df = spark.read.format(\"org.apache.spark.sql.cassandra\").options(dbtable = sql,table=\"tracking\",keyspace=\"data_engineering\").load().take(1)[0][0]\n",
    "    return cassandra_time\n"
   ]
  },
  {
   "cell_type": "code",
   "execution_count": 14,
   "metadata": {},
   "outputs": [],
   "source": [
    "def get_latest_mysql_time(user, password, url, driver):\n",
    "    sql = \"\"\"(select max(last_updated_time) from events) test\"\"\"\n",
    "    mysql_time = spark.read.format('jdbc').options(url=url, driver=driver, dbtable=sql, user=user, password=password).load().take(1)[0][0]\n",
    "    if mysql_time is None:\n",
    "        mysql_latest = '1998-01-01 23:59:59'\n",
    "    else :\n",
    "        mysql_latest = mysql_time.strftime('%Y-%m-%d %H:%M:%S')\n",
    "    return mysql_latest\n",
    "    # print(mysql_time)"
   ]
  },
  {
   "cell_type": "code",
   "execution_count": 15,
   "metadata": {},
   "outputs": [],
   "source": [
    "def run():\n",
    "    while True:\n",
    "        host = 'localhost'\n",
    "        port = '3306'\n",
    "        db_name = 'Data_Warehouse'\n",
    "        driver = 'com.mysql.cj.jdbc.Driver'\n",
    "        user = 'root'\n",
    "        password = 'mysql'\n",
    "        url = 'jdbc:mysql://' + host + ':' + port + '/' + db_name\n",
    "        timestart = datetime.datetime.now()\n",
    "        cassandra_time = get_latest_cassandra_time()\n",
    "        mysql_time = get_latest_mysql_time(user, password, url, driver)\n",
    "        #compare time\n",
    "        if cassandra_time > mysql_time:\n",
    "            main_task(user, password, url,driver, mysql_time)\n",
    "        else:\n",
    "            print(\"Up to dated\")\n",
    "        timeend = datetime.datetime.now()\n",
    "        print(f\"Need {timeend - timestart} to finish\")\n",
    "        time.sleep(30)"
   ]
  },
  {
   "cell_type": "code",
   "execution_count": 16,
   "metadata": {},
   "outputs": [
    {
     "name": "stdout",
     "output_type": "stream",
     "text": [
      "-----------------------------\n",
      "Retrieve data from Cassandra\n",
      "-----------------------------\n",
      "+--------------------+----+----------+-----------+---+------------+-----+--------------------+---------------+--------------------+---+--------+----+------+----+------------+--------------------+---------+--------------------+----+--------------------+-------------------+------------+-----------+----------+----------+--------+---+--------+\n",
      "|         create_time| bid|        bn|campaign_id| cd|custom_track|   de|                  dl|             dt|                  ed| ev|group_id|  id|job_id|  md|publisher_id|                  rl|       sr|                  ts|  tz|                  ua|                uid|utm_campaign|utm_content|utm_medium|utm_source|utm_term|  v|      vp|\n",
      "+--------------------+----+----------+-----------+---+------------+-----+--------------------+---------------+--------------------+---+--------+----+------+----+------------+--------------------+---------+--------------------+----+--------------------+-------------------+------------+-----------+----------+----------+--------+---+--------+\n",
      "|ca338710-0c8d-11e...|null|Chrome 103|       null| 24|       alive|UTF-8|http://fe.dev.got...|CandidatePortal|{\"customEvent\":\"a...|  2|    null|null|  null|true|        null|                null| 1366x768|2022-07-26 02:51:...|-420|Mozilla/5.0 (Wind...|1-t8bqaiy4-l61kszmf|        null|       null|      null|      null|    null|  1|1366x625|\n",
      "|7bc47720-0291-11e...|null|Chrome 103|       null| 30|       click|UTF-8|http://150.136.2....|CandidatePortal|{\"customEvent\":\"c...|  2|    null|null|  null|true|        null|                null| 1440x900|2022-07-13 09:52:...|-420|Mozilla/5.0 (Maci...|1-tqze99b0-l5j4h561|        null|       null|      null|      null|    null|  1|1440x789|\n",
      "|d062c9b0-0d60-11e...|   1|Chrome 103|         48| 24|        null|UTF-8|http://fe.dev.got...|CandidatePortal|                null|  1|      34|null|   187|true|           1|                null| 1366x768|2022-07-27 04:01:...|-420|Mozilla/5.0 (Wind...|1-347wwfkr-l632u1zk|        null|       null|      null|      null|    null|  1|1366x625|\n",
      "|b482cd70-0186-11e...|null|Chrome 103|       null| 24|        null|UTF-8|http://150.230.18...|CandidatePortal|                null|  1|    null|null|  null|true|        null|                null|1920x1080|2022-07-12 02:02:...|-420|Mozilla/5.0 (Wind...|1-mirdihkl-l5hizrmj|        null|       null|      null|      null|    null|  1|1920x947|\n",
      "|b181a820-0b5a-11e...|   1|Chrome 103|         48| 24|       click|UTF-8|http://fe.dev.got...|CandidatePortal|{\"customEvent\":\"c...|  2|      34|null|   188|true|           1|                null| 1366x768|2022-07-24 14:12:...|-420|Mozilla/5.0 (Wind...|1-zof0i457-l5ze6uuv|        null|       null|      null|      null|    null|  1|1366x625|\n",
      "|600bc2e0-07d7-11e...|null|Chrome 102|       null| 24|        null|UTF-8|http://localhost:...|CandidatePortal|                null|  1|    null|null|  null|true|        null|http://localhost:...|1920x1080|2022-07-20 02:55:...|-420|Mozilla/5.0 (Maci...|1-ok78d38x-l5j7ka8p|        null|       null|      null|      null|    null|  1|1920x925|\n",
      "|f4388280-080b-11e...|null|Chrome 102|       null| 24|       click|UTF-8|http://150.230.18...|CandidatePortal|{\"customEvent\":\"c...|  2|    null|null|  null|true|        null|                null|1920x1080|2022-07-20 09:11:...|-420|Mozilla/5.0 (Maci...|1-y9qrs3v1-l4p0gh3x|        null|       null|      null|      null|    null|  1|1159x976|\n",
      "|a7bc5f20-fea2-11e...|   2|Chrome 103|          4| 24|        null|UTF-8|http://150.230.18...|CandidatePortal|                null|  1|    null|null|    98|true|           1|                null| 1366x768|2022-07-08 09:45:...|-420|Mozilla/5.0 (Wind...|1-c5v39kv8-l5c94dee|        null|       null|      null|      null|    null|  1|1366x625|\n",
      "|f75958d0-0d61-11e...|   0|Chrome 103|        151| 24|       click|UTF-8|http://fe.dev.got...|CandidatePortal|{\"customEvent\":\"c...|  2|      28|null|  1103|true|           1|                null| 1366x768|2022-07-27 04:09:...|-420|Mozilla/5.0 (Wind...|1-347wwfkr-l632u1zk|        null|       null|      null|      null|    null|  1|1366x625|\n",
      "|87ab59a0-0890-11e...|null|Chrome 103|       null| 24|        null|UTF-8|http://fe.test.go...|CandidatePortal|                null|  1|    null|null|  null|true|        null|                null| 1366x768|2022-07-21 01:00:...|-420|Mozilla/5.0 (Wind...|1-0j4d6za5-l5ubuaox|        null|       null|      null|      null|    null|  1|1366x768|\n",
      "|9cb2d920-fdd9-11e...|null|Chrome 102|       null| 24|        null|UTF-8|http://localhost:...|CandidatePortal|                null|  1|    null|null|  null|true|        null|                null|1920x1080|2022-07-07 09:46:...|-420|Mozilla/5.0 (Maci...|1-2e0m174r-l4nx6s72|        null|       null|      null|      html|    null|  1|1206x976|\n",
      "|984179d0-07e0-11e...|null|Chrome 103|       null| 24|        null|UTF-8|http://localhost:...|CandidatePortal|                null|  1|    null|null|  null|true|        null|http://localhost:...|  375x634|2022-07-20 04:01:...|-420|Mozilla/5.0 (Linu...|1-go8olnux-l4pv9epe|        null|       null|      null|      null|    null|  1| 375x634|\n",
      "|7f117cc0-0b38-11e...|   1|Chrome 103|         48| 24|       click|UTF-8|http://fe.dev.got...|CandidatePortal|{\"customEvent\":\"c...|  2|      34|null|   188|true|           1|                null| 1366x768|2022-07-24 10:07:...|-420|Mozilla/5.0 (Wind...|1-84pzfc44-l5z5mcft|        null|       null|      null|      null|    null|  1|1366x625|\n",
      "|8afa0130-09c9-11e...|null|Chrome 103|       null| 24|        null|UTF-8|http://129.213.68...|CandidatePortal|                null|  1|    null|null|  null|true|        null|                null|1920x1080|2022-07-22 14:21:...| 240|Mozilla/5.0 (Wind...|1-eb7odtp7-l4o6dg83|        null|       null|      null|      null|    null|  1|1920x961|\n",
      "|cf1aa7b0-0bff-11e...|   0|Chrome 103|        222| 24|        null|UTF-8|http://fe.dev.got...|CandidatePortal|                null|  1|    null|null|  1531|true|           1|                null| 1366x768|2022-07-25 09:54:...|-420|Mozilla/5.0 (Wind...|1-yh82s4al-l60jlqwa|        null|       null|      null|      null|    null|  1|1366x625|\n",
      "|091badc0-ff9d-11e...|null| Chrome 96|       null| 24|       click|UTF-8|http://150.136.2....|CandidatePortal|{\"customEvent\":\"c...|  2|    null|null|  null|true|        null|                null|1920x1080|2022-07-09 15:37:...|-420|Mozilla/5.0 (X11;...|1-o23lt45w-l516d965|        null|       null|      null|      null|    null|  1|1920x919|\n",
      "|aec6f790-0d60-11e...|   1|Chrome 103|         93| 24|        null|UTF-8|http://fe.dev.got...|CandidatePortal|                null|  1|    null|null|   258|true|           1|                null| 1366x768|2022-07-27 04:00:...|-420|Mozilla/5.0 (Wind...|1-347wwfkr-l632u1zk|        null|       null|      null|      null|    null|  1|1366x625|\n",
      "|89393fe0-0d62-11e...|null|Chrome 103|       null| 24|       alive|UTF-8|http://fe.dev.got...|CandidatePortal|{\"customEvent\":\"a...|  2|    null|null|  null|true|        null|                null| 1366x768|2022-07-27 04:13:...|-420|Mozilla/5.0 (Wind...|1-5bqarbwn-l633cyss|        null|       null|      null|      null|    null|  1|1366x625|\n",
      "|91179750-0aee-11e...|null|Chrome 102|       null| 24|        null|UTF-8|http://fe.test.go...|CandidatePortal|                null|  1|    null|null|  null|true|        null|                null| 1366x768|2022-07-24 01:18:...|-420|Mozilla/5.0 (Wind...|1-fzywthq1-l5ymt8hr|        null|       null|      null|      null|    null|  1|1366x768|\n",
      "|2d02a170-0b5b-11e...|   1|Chrome 103|         48| 24|        null|UTF-8|http://fe.dev.got...|CandidatePortal|                null|  1|      34|null|   188|true|           1|                null| 1366x768|2022-07-24 14:16:...|-420|Mozilla/5.0 (Wind...|1-zof0i457-l5ze6uuv|        null|       null|      null|      null|    null|  1|1366x625|\n",
      "+--------------------+----+----------+-----------+---+------------+-----+--------------------+---------------+--------------------+---+--------+----+------+----+------------+--------------------+---------+--------------------+----+--------------------+-------------------+------------+-----------+----------+----------+--------+---+--------+\n",
      "only showing top 20 rows\n",
      "\n",
      "-----------------------------\n",
      "Process Cassandra statistics\n",
      "-----------------------------\n"
     ]
    },
    {
     "name": "stderr",
     "output_type": "stream",
     "text": [
      "C:\\spark\\spark-3.3.1-bin-hadoop3\\python\\pyspark\\sql\\dataframe.py:229: FutureWarning: Deprecated in 2.0, use createOrReplaceTempView instead.\n",
      "  warnings.warn(\"Deprecated in 2.0, use createOrReplaceTempView instead.\", FutureWarning)\n"
     ]
    },
    {
     "name": "stdout",
     "output_type": "stream",
     "text": [
      "-----------------------------\n",
      "Process MYSQL statistics\n",
      "-----------------------------\n",
      "-----------------------------\n",
      "Finalizing Output\n",
      "-----------------------------\n",
      "+------+----------+-----+------------+----------+-----------+--------+------------------------+---------------------+----------+------+-------+----------+--------------------+---------+\n",
      "|job_id|     dates|hours|publisher_id|company_id|campaign_id|group_id|disqualified_application|qualified_application|conversion|clicks|bid_set|spend_hour|   last_updated_time|  sources|\n",
      "+------+----------+-----+------------+----------+-----------+--------+------------------------+---------------------+----------+------+-------+----------+--------------------+---------+\n",
      "|     0|2022-07-06|    9|           0|      null|          0|       0|                    null|                 null|      null|     1|    0.0|         0|2023-08-28 16:50:...|Cassandra|\n",
      "|     0|2022-07-06|   15|           0|      null|          0|       0|                    null|                 null|         2|  null|   null|      null|2023-08-28 16:50:...|Cassandra|\n",
      "|     0|2022-07-07|    2|           0|      null|          0|       0|                    null|                 null|      null|     3|    0.0|         0|2023-08-28 16:50:...|Cassandra|\n",
      "|     0|2022-07-07|    3|           0|      null|          0|       0|                    null|                 null|      null|     2|    0.0|         0|2023-08-28 16:50:...|Cassandra|\n",
      "|     0|2022-07-08|    2|           0|      null|          0|       0|                    null|                 null|      null|    12|    0.0|         0|2023-08-28 16:50:...|Cassandra|\n",
      "|     0|2022-07-08|    4|           0|      null|          0|       0|                    null|                 null|      null|     3|    0.0|         0|2023-08-28 16:50:...|Cassandra|\n",
      "|     0|2022-07-08|    6|           0|      null|          0|       0|                    null|                 null|      null|     3|    0.0|         0|2023-08-28 16:50:...|Cassandra|\n",
      "|     0|2022-07-08|    8|           0|      null|          0|       0|                    null|                 null|      null|     1|    0.0|         0|2023-08-28 16:50:...|Cassandra|\n",
      "|     0|2022-07-08|   10|           0|      null|          0|       0|                    null|                 null|      null|    32|    0.0|         0|2023-08-28 16:50:...|Cassandra|\n",
      "|     0|2022-07-08|   13|           0|      null|          0|       0|                    null|                    2|         4|  null|   null|      null|2023-08-28 16:50:...|Cassandra|\n",
      "|     0|2022-07-09|    7|           0|      null|          0|       0|                    null|                 null|      null|     4|    0.0|         0|2023-08-28 16:50:...|Cassandra|\n",
      "|     0|2022-07-09|   15|           0|      null|          0|       0|                    null|                 null|         3|     5|    0.0|         0|2023-08-28 16:50:...|Cassandra|\n",
      "|     0|2022-07-10|    1|           0|      null|          0|       0|                    null|                 null|      null|     1|    0.0|         0|2023-08-28 16:50:...|Cassandra|\n",
      "|     0|2022-07-10|    8|           0|      null|          0|       0|                       1|                 null|         3|  null|   null|      null|2023-08-28 16:50:...|Cassandra|\n",
      "|     0|2022-07-10|   16|           0|      null|          0|       0|                    null|                 null|      null|    30|    0.0|         0|2023-08-28 16:50:...|Cassandra|\n",
      "|     0|2022-07-10|   17|           0|      null|          0|       0|                    null|                 null|      null|   166|    0.0|         0|2023-08-28 16:50:...|Cassandra|\n",
      "|     0|2022-07-10|   23|           0|      null|          0|       0|                    null|                 null|      null|     1|    0.0|         0|2023-08-28 16:50:...|Cassandra|\n",
      "|     0|2022-07-11|    0|           0|      null|          0|       0|                       1|                 null|         1|  null|   null|      null|2023-08-28 16:50:...|Cassandra|\n",
      "|     0|2022-07-11|    1|           0|      null|          0|       0|                    null|                 null|      null|     4|    0.0|         0|2023-08-28 16:50:...|Cassandra|\n",
      "|     0|2022-07-11|    2|           0|      null|          0|       0|                    null|                 null|      null|     5|    0.0|         0|2023-08-28 16:50:...|Cassandra|\n",
      "+------+----------+-----+------------+----------+-----------+--------+------------------------+---------------------+----------+------+-------+----------+--------------------+---------+\n",
      "only showing top 20 rows\n",
      "\n",
      "Data imported successfully\n",
      "Task finished\n",
      "Need 0:00:34.403194 to finish\n"
     ]
    },
    {
     "ename": "AttributeError",
     "evalue": "'str' object has no attribute 'strftime'",
     "output_type": "error",
     "traceback": [
      "\u001b[1;31m---------------------------------------------------------------------------\u001b[0m",
      "\u001b[1;31mAttributeError\u001b[0m                            Traceback (most recent call last)",
      "\u001b[1;32md:\\data_engineer\\ELT_FINAL.ipynb Cell 16\u001b[0m in \u001b[0;36m1\n\u001b[1;32m----> <a href='vscode-notebook-cell:/d%3A/data_engineer/ELT_FINAL.ipynb#X21sZmlsZQ%3D%3D?line=0'>1</a>\u001b[0m run()\n",
      "\u001b[1;32md:\\data_engineer\\ELT_FINAL.ipynb Cell 16\u001b[0m in \u001b[0;36m1\n\u001b[0;32m     <a href='vscode-notebook-cell:/d%3A/data_engineer/ELT_FINAL.ipynb#X21sZmlsZQ%3D%3D?line=9'>10</a>\u001b[0m timestart \u001b[39m=\u001b[39m datetime\u001b[39m.\u001b[39mdatetime\u001b[39m.\u001b[39mnow()\n\u001b[0;32m     <a href='vscode-notebook-cell:/d%3A/data_engineer/ELT_FINAL.ipynb#X21sZmlsZQ%3D%3D?line=10'>11</a>\u001b[0m cassandra_time \u001b[39m=\u001b[39m get_latest_cassandra_time()\n\u001b[1;32m---> <a href='vscode-notebook-cell:/d%3A/data_engineer/ELT_FINAL.ipynb#X21sZmlsZQ%3D%3D?line=11'>12</a>\u001b[0m mysql_time \u001b[39m=\u001b[39m get_latest_mysql_time(user, password, url, driver)\n\u001b[0;32m     <a href='vscode-notebook-cell:/d%3A/data_engineer/ELT_FINAL.ipynb#X21sZmlsZQ%3D%3D?line=12'>13</a>\u001b[0m \u001b[39m#compare time\u001b[39;00m\n\u001b[0;32m     <a href='vscode-notebook-cell:/d%3A/data_engineer/ELT_FINAL.ipynb#X21sZmlsZQ%3D%3D?line=13'>14</a>\u001b[0m \u001b[39mif\u001b[39;00m cassandra_time \u001b[39m>\u001b[39m mysql_time:\n",
      "\u001b[1;32md:\\data_engineer\\ELT_FINAL.ipynb Cell 16\u001b[0m in \u001b[0;36m7\n\u001b[0;32m      <a href='vscode-notebook-cell:/d%3A/data_engineer/ELT_FINAL.ipynb#X21sZmlsZQ%3D%3D?line=4'>5</a>\u001b[0m     mysql_latest \u001b[39m=\u001b[39m \u001b[39m'\u001b[39m\u001b[39m1998-01-01 23:59:59\u001b[39m\u001b[39m'\u001b[39m\n\u001b[0;32m      <a href='vscode-notebook-cell:/d%3A/data_engineer/ELT_FINAL.ipynb#X21sZmlsZQ%3D%3D?line=5'>6</a>\u001b[0m \u001b[39melse\u001b[39;00m :\n\u001b[1;32m----> <a href='vscode-notebook-cell:/d%3A/data_engineer/ELT_FINAL.ipynb#X21sZmlsZQ%3D%3D?line=6'>7</a>\u001b[0m     mysql_latest \u001b[39m=\u001b[39m mysql_time\u001b[39m.\u001b[39;49mstrftime(\u001b[39m'\u001b[39m\u001b[39m%\u001b[39m\u001b[39mY-\u001b[39m\u001b[39m%\u001b[39m\u001b[39mm-\u001b[39m\u001b[39m%d\u001b[39;00m\u001b[39m \u001b[39m\u001b[39m%\u001b[39m\u001b[39mH:\u001b[39m\u001b[39m%\u001b[39m\u001b[39mM:\u001b[39m\u001b[39m%\u001b[39m\u001b[39mS\u001b[39m\u001b[39m'\u001b[39m)\n\u001b[0;32m      <a href='vscode-notebook-cell:/d%3A/data_engineer/ELT_FINAL.ipynb#X21sZmlsZQ%3D%3D?line=7'>8</a>\u001b[0m \u001b[39mreturn\u001b[39;00m mysql_latest\n",
      "\u001b[1;31mAttributeError\u001b[0m: 'str' object has no attribute 'strftime'"
     ]
    }
   ],
   "source": [
    "run()"
   ]
  },
  {
   "cell_type": "code",
   "execution_count": null,
   "metadata": {},
   "outputs": [],
   "source": []
  },
  {
   "cell_type": "code",
   "execution_count": null,
   "metadata": {},
   "outputs": [],
   "source": []
  }
 ],
 "metadata": {
  "kernelspec": {
   "display_name": "Python 3",
   "language": "python",
   "name": "python3"
  },
  "language_info": {
   "codemirror_mode": {
    "name": "ipython",
    "version": 3
   },
   "file_extension": ".py",
   "mimetype": "text/x-python",
   "name": "python",
   "nbconvert_exporter": "python",
   "pygments_lexer": "ipython3",
   "version": "3.10.7"
  },
  "orig_nbformat": 4
 },
 "nbformat": 4,
 "nbformat_minor": 2
}
